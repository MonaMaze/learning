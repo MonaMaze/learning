{
  "nbformat": 4,
  "nbformat_minor": 0,
  "metadata": {
    "kernelspec": {
      "display_name": "Python 3",
      "language": "python",
      "name": "python3"
    },
    "language_info": {
      "codemirror_mode": {
        "name": "ipython",
        "version": 3
      },
      "file_extension": ".py",
      "mimetype": "text/x-python",
      "name": "python",
      "nbconvert_exporter": "python",
      "pygments_lexer": "ipython3",
      "version": "3.6.2"
    },
    "colab": {
      "name": "TicTacToe_Mona_Maze.ipynb",
      "provenance": [],
      "collapsed_sections": []
    }
  },
  "cells": [
    {
      "cell_type": "markdown",
      "metadata": {
        "id": "aAjb_hDyTKQh"
      },
      "source": [
        "# Tic Tac Toe Game \n",
        "##### Scratch Building\n",
        "##### No GUI Required "
      ]
    },
    {
      "cell_type": "markdown",
      "metadata": {
        "id": "NG1KZg4sTKQj"
      },
      "source": [
        "#### Some suggested tools before you get started:\n",
        "To take input from a user:\n",
        "\n",
        "    player1 = input(\"Please pick a marker 'X' or 'O'\")\n",
        "    \n",
        "Note that input() takes in a string. If you need an integer value, use\n",
        "\n",
        "    position = int(input('Please enter a number'))\n",
        "    \n",
        "<br>To clear the screen between moves:\n",
        "\n",
        "    from IPython.display import clear_output\n",
        "    clear_output()\n",
        "    \n",
        "Note that clear_output() will only work in jupyter. To clear the screen in other IDEs, consider:\n",
        "\n",
        "    print('\\n'*100)\n",
        "    \n",
        "This scrolls the previous board up out of view. Now on to the program!"
      ]
    },
    {
      "cell_type": "markdown",
      "metadata": {
        "id": "eq31aKoKTKQk"
      },
      "source": [
        "**Step 1: Write a function that can print out a board. Set up your board as a list, where each index 1-9 corresponds with a number on a number pad, so you get a 3 by 3 board representation.**"
      ]
    },
    {
      "cell_type": "code",
      "metadata": {
        "id": "v6oZEXZXTKQl"
      },
      "source": [
        "from IPython.display import clear_output\n",
        "\n",
        "def display_board(board):\n",
        "    print (' ',board[0],'|',board[1],'|',board[2])\n",
        "    print('-------------')\n",
        "    print (' ',board[3],'|',board[4],'|',board[5])\n",
        "    print('-------------')\n",
        "    print (' ',board[6],'|',board[7],'|',board[8])\n",
        "    print('-------------')"
      ],
      "execution_count": null,
      "outputs": []
    },
    {
      "cell_type": "markdown",
      "metadata": {
        "id": "YE-nz_ETTKQo"
      },
      "source": [
        "**TEST Step 1:** run your function on a test version of the board list, and make adjustments as necessary"
      ]
    },
    {
      "cell_type": "code",
      "metadata": {
        "id": "4iQ9D-u5TKQp",
        "outputId": "b867b9f6-8c2e-48ab-e3d4-602420b3f54a",
        "colab": {
          "base_uri": "https://localhost:8080/",
          "height": 119
        }
      },
      "source": [
        "test_board = ['X','O','X','O','X','O','X','O','X']\n",
        "display_board(test_board)"
      ],
      "execution_count": null,
      "outputs": [
        {
          "output_type": "stream",
          "text": [
            "  X | O | X\n",
            "-------------\n",
            "  O | X | O\n",
            "-------------\n",
            "  X | O | X\n",
            "-------------\n"
          ],
          "name": "stdout"
        }
      ]
    },
    {
      "cell_type": "markdown",
      "metadata": {
        "id": "WxeUw0FhTKQr"
      },
      "source": [
        "**Step 2: Write a function that can take in a player input and assign their marker as 'X' or 'O'. Think about using *while* loops to continually ask until you get a correct answer.**"
      ]
    },
    {
      "cell_type": "code",
      "metadata": {
        "id": "MG0XC4aXTKQs"
      },
      "source": [
        "def player_input():\n",
        "    marker = input(\"Please pick a marker 'X' or 'O': \")\n",
        "    while not marker.upper() == 'X' and not marker.upper() == 'O':\n",
        "      print('Wrong smbol')\n",
        "      marker = input(\"Please pick a marker 'X' or 'O': \")\n",
        "    if marker.upper() == 'X':\n",
        "      return ('X', 'O')\n",
        "    else:\n",
        "      return ('O', 'X')"
      ],
      "execution_count": null,
      "outputs": []
    },
    {
      "cell_type": "markdown",
      "metadata": {
        "id": "6fVimbgzTKQu"
      },
      "source": [
        "**TEST Step 2:** run the function to make sure it returns the desired output"
      ]
    },
    {
      "cell_type": "code",
      "metadata": {
        "id": "PJSO5QX1TKQu",
        "outputId": "60a44400-4862-4513-e73f-5b5b5f49952c",
        "colab": {
          "base_uri": "https://localhost:8080/",
          "height": 51
        }
      },
      "source": [
        "player_input()"
      ],
      "execution_count": null,
      "outputs": [
        {
          "output_type": "stream",
          "text": [
            "Please pick a marker 'X' or 'O': x\n"
          ],
          "name": "stdout"
        },
        {
          "output_type": "execute_result",
          "data": {
            "text/plain": [
              "('X', 'O')"
            ]
          },
          "metadata": {
            "tags": []
          },
          "execution_count": 19
        }
      ]
    },
    {
      "cell_type": "markdown",
      "metadata": {
        "id": "aQN1q9gGTKQw"
      },
      "source": [
        "**Step 3: Write a function that takes in the board list object, a marker ('X' or 'O'), and a desired position (number 1-9) and assigns it to the board.**"
      ]
    },
    {
      "cell_type": "code",
      "metadata": {
        "id": "drK45WDaTKQx"
      },
      "source": [
        "def place_marker(board, marker, position):\n",
        "    board[position-1] = marker\n"
      ],
      "execution_count": null,
      "outputs": []
    },
    {
      "cell_type": "markdown",
      "metadata": {
        "id": "gapk660ATKQz"
      },
      "source": [
        "**TEST Step 3:** run the place marker function using test parameters and display the modified board"
      ]
    },
    {
      "cell_type": "code",
      "metadata": {
        "id": "4vIDyBjrTKQ0",
        "outputId": "503b396d-2951-42c4-ab1c-0ce19601066c",
        "colab": {
          "base_uri": "https://localhost:8080/",
          "height": 119
        }
      },
      "source": [
        "place_marker(test_board,'$',8)\n",
        "display_board(test_board)"
      ],
      "execution_count": null,
      "outputs": [
        {
          "output_type": "stream",
          "text": [
            "  X | O | X\n",
            "-------------\n",
            "  O | X | O\n",
            "-------------\n",
            "  X | $ | X\n",
            "-------------\n"
          ],
          "name": "stdout"
        }
      ]
    },
    {
      "cell_type": "markdown",
      "metadata": {
        "id": "vRuvrYsVTKQ2"
      },
      "source": [
        "**Step 4: Write a function that takes in a board and a mark (X or O) and then checks to see if that mark has won. **"
      ]
    },
    {
      "cell_type": "code",
      "metadata": {
        "id": "FEAdOx8VKZcL"
      },
      "source": [
        "def win_check_(board, mark):\n",
        "  return (\n",
        "      (board[0] == mark and board[1] == mark and board[2] == mark) or\n",
        "      (board[3] == mark and board[4] == mark and board[5] == mark) or\n",
        "      (board[6] == mark and board[7] == mark and board[8] == mark) or\n",
        "      (board[0] == mark and board[3] == mark and board[6] == mark) or\n",
        "      (board[1] == mark and board[4] == mark and board[7] == mark) or\n",
        "      (board[2] == mark and board[5] == mark and board[8] == mark) or\n",
        "      (board[0] == mark and board[4] == mark and board[8] == mark) or\n",
        "      (board[2] == mark and board[4] == mark and board[6] == mark)\n",
        "  )"
      ],
      "execution_count": null,
      "outputs": []
    },
    {
      "cell_type": "code",
      "metadata": {
        "id": "Zl_L_t1xTKQ2"
      },
      "source": [
        "def win_check(board, mark):\n",
        "    if board[0] == mark and board[1] == mark and board[2] == mark:\n",
        "      print('Congrats you have won')\n",
        "      return True\n",
        "    elif board[3] == mark and board[4] == mark and board[5] == mark:\n",
        "      print('Congrats you have won')\n",
        "      return True\n",
        "    elif board[6] == mark and board[7] == mark and board[8] == mark:\n",
        "      print('Congrats you have won')\n",
        "      return True\n",
        "    elif board[0] == mark and board[3] == mark and board[6] == mark:\n",
        "      print('Congrats you have won')\n",
        "      return True\n",
        "    elif board[1] == mark and board[4] == mark and board[7] == mark:\n",
        "      print('Congrats you have won')\n",
        "      return True\n",
        "    elif board[2] == mark and board[5] == mark and board[8] == mark:\n",
        "      print('Congrats you have won')\n",
        "      return True\n",
        "    elif board[0] == mark and board[4] == mark and board[8] == mark:\n",
        "      print('Congrats you have won')\n",
        "      return True\n",
        "    elif board[2] == mark and board[4] == mark and board[6] == mark:\n",
        "      print('Congrats you have won')\n",
        "      return True\n",
        "    else:\n",
        "      print('Try again')\n",
        "      return False"
      ],
      "execution_count": null,
      "outputs": []
    },
    {
      "cell_type": "markdown",
      "metadata": {
        "id": "D9tY6vCHTKQ4"
      },
      "source": [
        "**TEST Step 4:** run the win_check function against our test_board - it should return True"
      ]
    },
    {
      "cell_type": "code",
      "metadata": {
        "id": "W_rBIIOCTKQ5",
        "outputId": "6d6a3a3f-a734-47ac-a13b-29757994c4d0",
        "colab": {
          "base_uri": "https://localhost:8080/",
          "height": 163
        }
      },
      "source": [
        "win_check(test_board,'X')"
      ],
      "execution_count": null,
      "outputs": [
        {
          "output_type": "error",
          "ename": "NameError",
          "evalue": "ignored",
          "traceback": [
            "\u001b[0;31m---------------------------------------------------------------------------\u001b[0m",
            "\u001b[0;31mNameError\u001b[0m                                 Traceback (most recent call last)",
            "\u001b[0;32m<ipython-input-23-bd283b57ce29>\u001b[0m in \u001b[0;36m<module>\u001b[0;34m()\u001b[0m\n\u001b[0;32m----> 1\u001b[0;31m \u001b[0mwin_check\u001b[0m\u001b[0;34m(\u001b[0m\u001b[0mtest_board\u001b[0m\u001b[0;34m,\u001b[0m\u001b[0;34m'X'\u001b[0m\u001b[0;34m)\u001b[0m\u001b[0;34m\u001b[0m\u001b[0;34m\u001b[0m\u001b[0m\n\u001b[0m",
            "\u001b[0;31mNameError\u001b[0m: name 'win_check' is not defined"
          ]
        }
      ]
    },
    {
      "cell_type": "markdown",
      "metadata": {
        "id": "ROj56ItpTKQ7"
      },
      "source": [
        "**Step 5: Write a function that uses the random module to randomly decide which player goes first. You may want to lookup random.randint() Return a string of which player went first.**"
      ]
    },
    {
      "cell_type": "code",
      "metadata": {
        "id": "NMgrAjU3TKQ7"
      },
      "source": [
        "from random import randint\n",
        "\n",
        "def choose_first():\n",
        "    chosen = randint(1,2)\n",
        "    #print('Turn of Player {}'.format(chosen))\n",
        "    return chosen"
      ],
      "execution_count": null,
      "outputs": []
    },
    {
      "cell_type": "markdown",
      "metadata": {
        "id": "7H1uXKU-TKQ9"
      },
      "source": [
        "**Step 6: Write a function that returns a boolean indicating whether a space on the board is freely available.**"
      ]
    },
    {
      "cell_type": "code",
      "metadata": {
        "id": "i0rtv4b3TKQ-"
      },
      "source": [
        "def space_check(board, position):\n",
        "    if board[position-1] == ' ':\n",
        "      return True\n",
        "    else:\n",
        "      return False"
      ],
      "execution_count": null,
      "outputs": []
    },
    {
      "cell_type": "markdown",
      "metadata": {
        "id": "TKfVJE_KTKRA"
      },
      "source": [
        "**Step 7: Write a function that checks if the board is full and returns a boolean value. True if full, False otherwise.**"
      ]
    },
    {
      "cell_type": "code",
      "metadata": {
        "id": "Vsa0TroYTKRB"
      },
      "source": [
        "def full_board_check(board):\n",
        "    for i in board:\n",
        "      if i == ' ':\n",
        "        return False\n",
        "    else:\n",
        "      return True"
      ],
      "execution_count": null,
      "outputs": []
    },
    {
      "cell_type": "markdown",
      "metadata": {
        "id": "ju-R3rRATKRD"
      },
      "source": [
        "**Step 8: Write a function that asks for a player's next position (as a number 1-9) and then uses the function from step 6 to check if it's a free position. If it is, then return the position for later use.**"
      ]
    },
    {
      "cell_type": "code",
      "metadata": {
        "id": "zLusZVZETKRE"
      },
      "source": [
        "def player_choice(board):\n",
        "    while True:\n",
        "      position = int(input('Please enter a number of your next position: '))\n",
        "      if not position >= 1 and position <= 9:\n",
        "        print('Out of range, choose number from 1 to 9')\n",
        "      elif not board[position-1] == ' ':\n",
        "        print('Already taken, please try again')\n",
        "      else:\n",
        "        return position"
      ],
      "execution_count": null,
      "outputs": []
    },
    {
      "cell_type": "markdown",
      "metadata": {
        "id": "E9ryWxTdTKRG"
      },
      "source": [
        "**Step 9: Write a function that asks the player if they want to play again and returns a boolean True if they do want to play again.**"
      ]
    },
    {
      "cell_type": "code",
      "metadata": {
        "id": "1_Nt3ngsTKRG"
      },
      "source": [
        "def replay():\n",
        "    play_again = input(\"Do you want to play again 'Y' or 'N': \")\n",
        "    while not play_again.upper() == 'Y' and not play_again.upper() == 'N':\n",
        "      print('Wrong smbol')\n",
        "      play_again = input(\"Do you want to play again 'Y' or 'N': \")\n",
        "    if play_again.upper() == 'Y':\n",
        "      return False\n",
        "    elif play_again.upper() == 'N':\n",
        "      return True"
      ],
      "execution_count": null,
      "outputs": []
    },
    {
      "cell_type": "code",
      "metadata": {
        "id": "0RG8LEGNoXJq"
      },
      "source": [
        "def start_end():\n",
        "    play_again = input(\"Do you want to play TicTacToe 'Y' or 'N': \")\n",
        "    while not play_again.upper() == 'Y' and not play_again.upper() == 'N':\n",
        "      print('Wrong smbol')\n",
        "      play_again = input(\"Do you want to play TicTacToe 'Y' or 'N': \")\n",
        "    if play_again.upper() == 'Y':\n",
        "      return False\n",
        "    elif play_again.upper() == 'N':\n",
        "      return True"
      ],
      "execution_count": null,
      "outputs": []
    },
    {
      "cell_type": "markdown",
      "metadata": {
        "collapsed": true,
        "id": "gjLdHz0MTKRI"
      },
      "source": [
        "**Step 10: Here comes the hard part! Use while loops and the functions you've made to run the game!**"
      ]
    },
    {
      "cell_type": "code",
      "metadata": {
        "id": "o66HU33BP9vx",
        "outputId": "9b28dea8-62f0-47c8-b6d1-7687262bc22c",
        "colab": {
          "base_uri": "https://localhost:8080/",
          "height": 816
        }
      },
      "source": [
        "\n",
        "print('Welcome to Tic Tac Toe!')\n",
        "\n",
        "\n",
        "while True:\n",
        "    # Reset the board\n",
        "    from IPython.display import clear_output\n",
        "\n",
        "    board = [' ']*9\n",
        "\n",
        "    # Choose Markers\n",
        "    if choose_first() == 1:\n",
        "      player1, player2 = player_input()\n",
        "    else:\n",
        "      player2, player1 = player_input()\n",
        "\n",
        "    print(\"Player 1 symbol is \" + player1 + \" and Player 2 symbol is \"+ player2)\n",
        "\n",
        "    # Who Starts First\n",
        "    turn = 'Player ' + str(choose_first())\n",
        "    print(turn + ' will go first.')\n",
        "    \n",
        "    # Asking to Start or  End The Game\n",
        "    if start_end():\n",
        "        break\n",
        "\n",
        "\n",
        "    while True:\n",
        "        if turn == 'Player 1':\n",
        "            # Player1's turn.\n",
        "            print(\"Player1's turn\")\n",
        "            # Display Board\n",
        "            display_board(board) \n",
        "\n",
        "            # Take His Action\n",
        "\n",
        "            position = player_choice(board)\n",
        "\n",
        "            place_marker(board, player1, position)\n",
        "\n",
        "            # Did he Win\n",
        "            if  win_check_(board, player1):\n",
        "                print('Congratulations! You have won the game!')\n",
        "                break\n",
        "\n",
        "            else:\n",
        "                if full_board_check(board):\n",
        "                    print('The game is a draw!')\n",
        "                    break\n",
        "                else:\n",
        "                    turn = 'Player 2'\n",
        "\n",
        "        else:\n",
        "            # Player2's turn.\n",
        "            print(\"Player2's turn\")         \n",
        "            # Display Board \n",
        "            display_board(board) \n",
        "\n",
        "            # Take His Action\n",
        "\n",
        "            position = player_choice(board)\n",
        "\n",
        "            place_marker(board, player2, position)\n",
        "\n",
        "            # Did he Win\n",
        "            if  win_check_(board, player2):\n",
        "                print('Congratulations! You have won the game!')\n",
        "                break\n",
        "\n",
        "            else:\n",
        "                if full_board_check(board):\n",
        "                    print('The game is a draw!')\n",
        "                    break\n",
        "                else:\n",
        "                    turn = 'Player 1'\n",
        "\n",
        "    # Replay ?\n",
        "    if replay():\n",
        "        break"
      ],
      "execution_count": null,
      "outputs": [
        {
          "output_type": "stream",
          "text": [
            "Welcome to Tic Tac Toe!\n",
            "Please pick a marker 'X' or 'O': x\n",
            "Player 1 symbol is X and Player 2 symbol is O\n",
            "Player 2 will go first.\n",
            "Do you want to play TicTacToe 'Y' or 'N': y\n",
            "Player2's turn\n",
            "    |   |  \n",
            "-------------\n",
            "    |   |  \n",
            "-------------\n",
            "    |   |  \n",
            "-------------\n",
            "Please enter a number of your next position: 1\n",
            "Player1's turn\n",
            "  O |   |  \n",
            "-------------\n",
            "    |   |  \n",
            "-------------\n",
            "    |   |  \n",
            "-------------\n",
            "Please enter a number of your next position: 5\n",
            "Player2's turn\n",
            "  O |   |  \n",
            "-------------\n",
            "    | X |  \n",
            "-------------\n",
            "    |   |  \n",
            "-------------\n",
            "Please enter a number of your next position: 3\n",
            "Player1's turn\n",
            "  O |   | O\n",
            "-------------\n",
            "    | X |  \n",
            "-------------\n",
            "    |   |  \n",
            "-------------\n",
            "Please enter a number of your next position: 8\n",
            "Player2's turn\n",
            "  O |   | O\n",
            "-------------\n",
            "    | X |  \n",
            "-------------\n",
            "    | X |  \n",
            "-------------\n",
            "Please enter a number of your next position: 2\n",
            "Congratulations! You have won the game!\n",
            "Do you want to play again 'Y' or 'N': n\n"
          ],
          "name": "stdout"
        }
      ]
    },
    {
      "cell_type": "markdown",
      "metadata": {
        "collapsed": true,
        "id": "V3AlA00FTKRL"
      },
      "source": [
        "## Good Job!"
      ]
    }
  ]
}